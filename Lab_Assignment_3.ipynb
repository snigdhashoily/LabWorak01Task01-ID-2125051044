{
  "nbformat": 4,
  "nbformat_minor": 0,
  "metadata": {
    "colab": {
      "provenance": [],
      "authorship_tag": "ABX9TyMcjo38bz2Iiv41Pz8V/LS7",
      "include_colab_link": true
    },
    "kernelspec": {
      "name": "python3",
      "display_name": "Python 3"
    },
    "language_info": {
      "name": "python"
    }
  },
  "cells": [
    {
      "cell_type": "markdown",
      "metadata": {
        "id": "view-in-github",
        "colab_type": "text"
      },
      "source": [
        "<a href=\"https://colab.research.google.com/github/snigdhashoily/LabWorak01Task01-ID-2125051044/blob/main/Lab_Assignment_3.ipynb\" target=\"_parent\"><img src=\"https://colab.research.google.com/assets/colab-badge.svg\" alt=\"Open In Colab\"/></a>"
      ]
    },
    {
      "cell_type": "markdown",
      "source": [
        "# Digital Image Processing Lab\n",
        "\n",
        "Course Code: CSE 438\n",
        "\n",
        "Course Title: Digital Image Processing Lab\n",
        "\n",
        "Submitted By\n",
        "\n",
        "Name: Sinigdha Akter Shoily\n",
        "\n",
        "ID: 212 505 1044\n",
        "\n",
        "Section: 8A\n",
        "\n",
        "Batch: 50th\n",
        "\n",
        "Semester: Spring 2024\n",
        "\n",
        "Department: CSE\n",
        "\n",
        "Supervised By\n",
        "\n",
        "Name: Audity Ghosh\n",
        "\n",
        "Lecturer\n",
        "\n",
        "Dept. of CSE (UITS)\n",
        "\n",
        "Date:04-03-2025"
      ],
      "metadata": {
        "id": "HMJYmhL7CXD8"
      }
    },
    {
      "cell_type": "code",
      "source": [
        "from google.colab import drive\n",
        "drive.mount('/content/drive')"
      ],
      "metadata": {
        "colab": {
          "base_uri": "https://localhost:8080/"
        },
        "id": "-BTGXwQyCd_k",
        "outputId": "98ec045b-d5ca-49c1-f5f3-406f0e346a40"
      },
      "execution_count": 1,
      "outputs": [
        {
          "output_type": "stream",
          "name": "stdout",
          "text": [
            "Mounted at /content/drive\n"
          ]
        }
      ]
    },
    {
      "cell_type": "code",
      "source": [
        "from google.colab import files\n",
        "import cv2\n",
        "import matplotlib.pyplot as plt\n",
        "import numpy as np\n",
        "from google.colab.patches import cv2_imshow"
      ],
      "metadata": {
        "id": "FxnrqJngDZha"
      },
      "execution_count": 2,
      "outputs": []
    },
    {
      "cell_type": "code",
      "source": [
        "# Create two 400x400 images with black background\n",
        "image1 = np.zeros((400, 400, 3), dtype=np.uint8)  # Black background\n",
        "image2 = np.zeros((400, 400, 3), dtype=np.uint8)  # Black background\n",
        "\n",
        "# Draw a green rectangle at the center for image1\n",
        "cv2.rectangle(image1, (100, 150), (300, 250), (0, 255, 0), -1)  # Green rectangle (BGR)\n",
        "\n",
        "# Draw a magenta circle at the center for image2\n",
        "cv2.circle(image2, (200, 200), 100, (255, 0, 255), -1)  # Magenta circle (BGR)\n",
        "\n",
        "# Display the original images\n",
        "plt.figure(figsize=(10, 5))\n",
        "\n",
        "plt.subplot(1, 2, 1)\n",
        "plt.imshow(cv2.cvtColor(image1, cv2.COLOR_BGR2RGB))\n",
        "plt.title(\"Green Rectangle (Image 1)\")\n",
        "plt.axis('off')\n",
        "\n",
        "plt.subplot(1, 2, 2)\n",
        "plt.imshow(cv2.cvtColor(image2, cv2.COLOR_BGR2RGB))\n",
        "plt.title(\"Magenta Circle (Image 2)\")\n",
        "plt.axis('off')\n",
        "\n",
        "plt.show()"
      ],
      "metadata": {
        "colab": {
          "base_uri": "https://localhost:8080/",
          "height": 411
        },
        "id": "vxhMuFWop56H",
        "outputId": "7b4cb148-4814-4933-8197-9d1d39d5adde"
      },
      "execution_count": 11,
      "outputs": [
        {
          "output_type": "display_data",
          "data": {
            "text/plain": [
              "<Figure size 1000x500 with 2 Axes>"
            ],
            "image/png": "[encoded data removed]"
          },
          "metadata": {}
        }
      ]
    },
    {
      "cell_type": "code",
      "source": [
        "# Perform the requested bitwise operations:\n",
        "\n",
        "# 1. Bitwise AND: Show the overlapping region of the two images\n",
        "bitwise_and = cv2.bitwise_and(image1, image2)\n",
        "\n",
        "# Display Bitwise AND\n",
        "plt.figure(figsize=(12, 10))\n",
        "plt.subplot(3, 3, 1)\n",
        "plt.imshow(cv2.cvtColor(bitwise_and, cv2.COLOR_BGR2RGB))\n",
        "plt.title(\"Bitwise AND\")\n",
        "plt.axis('off')"
      ],
      "metadata": {
        "colab": {
          "base_uri": "https://localhost:8080/",
          "height": 302
        },
        "id": "VWrCj5Ags7G3",
        "outputId": "5a0a77df-340a-4900-80f0-1774159ea17d"
      },
      "execution_count": 18,
      "outputs": [
        {
          "output_type": "execute_result",
          "data": {
            "text/plain": [
              "(-0.5, 399.5, 399.5, -0.5)"
            ]
          },
          "metadata": {},
          "execution_count": 18
        },
        {
          "output_type": "display_data",
          "data": {
            "text/plain": [
              "<Figure size 1200x1000 with 1 Axes>"
            ],
            "image/png": "[encoded data removed]"
          },
          "metadata": {}
        }
      ]
    },
    {
      "cell_type": "code",
      "source": [
        "# 2. Bitwise OR: Combine both shapes while retaining their colors\n",
        "bitwise_or = cv2.bitwise_or(image1, image2)\n",
        "\n",
        "# Display Bitwise OR\n",
        "plt.figure(figsize=(12, 10))\n",
        "plt.subplot(3, 3, 2)\n",
        "plt.imshow(cv2.cvtColor(bitwise_or, cv2.COLOR_BGR2RGB))\n",
        "plt.title(\"Bitwise OR\")\n",
        "plt.axis('off')"
      ],
      "metadata": {
        "colab": {
          "base_uri": "https://localhost:8080/",
          "height": 302
        },
        "id": "U1OiMWZ7tVIr",
        "outputId": "5cb91695-f514-487e-c3f9-55eec4ee1f38"
      },
      "execution_count": 19,
      "outputs": [
        {
          "output_type": "execute_result",
          "data": {
            "text/plain": [
              "(-0.5, 399.5, 399.5, -0.5)"
            ]
          },
          "metadata": {},
          "execution_count": 19
        },
        {
          "output_type": "display_data",
          "data": {
            "text/plain": [
              "<Figure size 1200x1000 with 1 Axes>"
            ],
            "image/png": "[encoded data removed]"
          },
          "metadata": {}
        }
      ]
    },
    {
      "cell_type": "code",
      "source": [
        "# 3. Bitwise XOR: Retains only the non-overlapping parts of both images\n",
        "bitwise_xor = cv2.bitwise_xor(image1, image2)\n",
        "\n",
        "# Display Bitwise XOR\n",
        "plt.figure(figsize=(12, 10))\n",
        "plt.subplot(3, 3, 3)\n",
        "plt.imshow(cv2.cvtColor(bitwise_xor, cv2.COLOR_BGR2RGB))\n",
        "plt.title(\"Bitwise XOR\")\n",
        "plt.axis('off')"
      ],
      "metadata": {
        "colab": {
          "base_uri": "https://localhost:8080/",
          "height": 302
        },
        "id": "_Xcfw8ITtVcc",
        "outputId": "b71ff5e9-8135-4d80-b069-cccf3e4a662e"
      },
      "execution_count": 20,
      "outputs": [
        {
          "output_type": "execute_result",
          "data": {
            "text/plain": [
              "(-0.5, 399.5, 399.5, -0.5)"
            ]
          },
          "metadata": {},
          "execution_count": 20
        },
        {
          "output_type": "display_data",
          "data": {
            "text/plain": [
              "<Figure size 1200x1000 with 1 Axes>"
            ],
            "image/png": "[encoded data removed]"
          },
          "metadata": {}
        }
      ]
    },
    {
      "cell_type": "code",
      "source": [
        "# 4. Bitwise NOT: Inverts the colors of each shape separately\n",
        "bitwise_not_image1 = cv2.bitwise_not(image1)\n",
        "bitwise_not_image2 = cv2.bitwise_not(image2)\n",
        "\n",
        "# Display Bitwise NOT (Image 1)\n",
        "plt.figure(figsize=(12, 10))\n",
        "plt.subplot(3, 3, 4)\n",
        "plt.imshow(cv2.cvtColor(bitwise_not_image1, cv2.COLOR_BGR2RGB))\n",
        "plt.title(\"Bitwise NOT (Image 1)\")\n",
        "plt.axis('off')\n",
        "\n",
        "# Display Bitwise NOT (Image 2)\n",
        "plt.figure(figsize=(12, 10))\n",
        "plt.subplot(3, 3, 5)\n",
        "plt.imshow(cv2.cvtColor(bitwise_not_image2, cv2.COLOR_BGR2RGB))\n",
        "plt.title(\"Bitwise NOT (Image 2)\")\n",
        "plt.axis('off')\n"
      ],
      "metadata": {
        "colab": {
          "base_uri": "https://localhost:8080/",
          "height": 570
        },
        "id": "8ieR0xThtV-U",
        "outputId": "d4fbf14a-30a1-493e-f974-92a927423369"
      },
      "execution_count": 21,
      "outputs": [
        {
          "output_type": "execute_result",
          "data": {
            "text/plain": [
              "(-0.5, 399.5, 399.5, -0.5)"
            ]
          },
          "metadata": {},
          "execution_count": 21
        },
        {
          "output_type": "display_data",
          "data": {
            "text/plain": [
              "<Figure size 1200x1000 with 1 Axes>"
            ],
            "image/png": "[encoded data removed]"
          },
          "metadata": {}
        },
        {
          "output_type": "display_data",
          "data": {
            "text/plain": [
              "<Figure size 1200x1000 with 1 Axes>"
            ],
            "image/png": "[encoded data removed]"
          },
          "metadata": {}
        }
      ]
    },
    {
      "cell_type": "code",
      "source": [
        "# 5. Element-wise Multiplication: Observe the effect on overlapping areas\n",
        "elementwise_multiply = cv2.multiply(image1, image2)\n",
        "\n",
        "# Display Element-wise Multiplication\n",
        "plt.figure(figsize=(12, 10))\n",
        "plt.subplot(3, 3, 6)\n",
        "plt.imshow(cv2.cvtColor(elementwise_multiply, cv2.COLOR_BGR2RGB))\n",
        "plt.title(\"Element-wise Multiplication\")\n",
        "plt.axis('off')"
      ],
      "metadata": {
        "colab": {
          "base_uri": "https://localhost:8080/",
          "height": 302
        },
        "id": "eEokqqvTvctC",
        "outputId": "32b961c1-c942-4962-91fb-59c05b21be7b"
      },
      "execution_count": 22,
      "outputs": [
        {
          "output_type": "execute_result",
          "data": {
            "text/plain": [
              "(-0.5, 399.5, 399.5, -0.5)"
            ]
          },
          "metadata": {},
          "execution_count": 22
        },
        {
          "output_type": "display_data",
          "data": {
            "text/plain": [
              "<Figure size 1200x1000 with 1 Axes>"
            ],
            "image/png": "[encoded data removed]"
          },
          "metadata": {}
        }
      ]
    },
    {
      "cell_type": "code",
      "source": [
        "# 6. Alpha Blending: Blend both images with transparency effects\n",
        "alpha_blend = cv2.addWeighted(image1, 0.5, image2, 0.5, 0)\n",
        "\n",
        "# Display Alpha Blending\n",
        "plt.figure(figsize=(12, 10))\n",
        "plt.subplot(3, 3, 7)\n",
        "plt.imshow(cv2.cvtColor(alpha_blend, cv2.COLOR_BGR2RGB))\n",
        "plt.title(\"Alpha Blending\")\n",
        "plt.axis('off')"
      ],
      "metadata": {
        "colab": {
          "base_uri": "https://localhost:8080/",
          "height": 302
        },
        "id": "a-3g66lHviGx",
        "outputId": "ab9d17c7-32a5-4c29-ef21-84618d9f8150"
      },
      "execution_count": 23,
      "outputs": [
        {
          "output_type": "execute_result",
          "data": {
            "text/plain": [
              "(-0.5, 399.5, 399.5, -0.5)"
            ]
          },
          "metadata": {},
          "execution_count": 23
        },
        {
          "output_type": "display_data",
          "data": {
            "text/plain": [
              "<Figure size 1200x1000 with 1 Axes>"
            ],
            "image/png": "[encoded data removed]"
          },
          "metadata": {}
        }
      ]
    },
    {
      "cell_type": "code",
      "source": [
        "# 7. Image Subtraction: Highlights the differences between the two images\n",
        "image_subtract = cv2.subtract(image1, image2)\n",
        "\n",
        "# Display Image Subtraction\n",
        "plt.figure(figsize=(12, 10))\n",
        "plt.subplot(3, 3, 8)\n",
        "plt.imshow(cv2.cvtColor(image_subtract, cv2.COLOR_BGR2RGB))\n",
        "plt.title(\"Image Subtraction\")\n",
        "plt.axis('off')\n",
        "\n",
        "plt.show()"
      ],
      "metadata": {
        "colab": {
          "base_uri": "https://localhost:8080/",
          "height": 285
        },
        "id": "ClXG__hqvk45",
        "outputId": "65c82772-e567-41fe-8444-191082b0ec69"
      },
      "execution_count": 24,
      "outputs": [
        {
          "output_type": "display_data",
          "data": {
            "text/plain": [
              "<Figure size 1200x1000 with 1 Axes>"
            ],
            "image/png": "[encoded data removed]"
          },
          "metadata": {}
        }
      ]
    }
  ]
}